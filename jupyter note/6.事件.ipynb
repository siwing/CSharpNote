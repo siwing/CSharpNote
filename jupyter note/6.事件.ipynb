{
 "cells": [
  {
   "cell_type": "markdown",
   "metadata": {},
   "source": [
    "类或对象可以通过事件向其他类或对象通知发生的相关事情。\n",
    "\n",
    "**发布者**：发送（或引发）事件的类。\n",
    "\n",
    "**订阅者**：接收（或处理）事件的类。\n",
    "\n",
    "事件具有以下属性：\n",
    "\n",
    "1. 发布者确定何时引发事件；订阅者确定对事件作出何种响应。\n",
    "\n",
    "> 发布者有一个方法用于发布事件，通知各个订阅者。订阅者有一个方法，用于事件发生时作出响应。\n",
    "\n",
    "2. 一个事件可以有多个订阅者。订阅者可以处理来自多个发布者的多个事件。\n",
    "\n",
    "3. 没有订阅者的事件永远也不会触发处理。\n",
    "\n",
    "4. 事件通常用于表示用户操作，例如单击按钮或图形用户界面中的菜单选项。\n",
    "\n",
    "5. 当事件具有多个订阅者时，引发该事件时会同步调用事件处理程序。若要异步调用事件，请参阅 “使用异步方式调用同步方法”。\n",
    "\n",
    "6. 在 .NET Framework 类库中，事件基于 EventHandler 委托和 EventArgs 基类。\n",
    "\n",
    "**事件是一种特殊的多播委托，只能从声明它的类中进行调用。**"
   ]
  },
  {
   "cell_type": "code",
   "execution_count": null,
   "metadata": {},
   "outputs": [],
   "source": []
  }
 ],
 "metadata": {
  "kernelspec": {
   "display_name": ".NET (C#)",
   "language": "C#",
   "name": ".net-csharp"
  },
  "language_info": {
   "file_extension": ".cs",
   "mimetype": "text/x-csharp",
   "name": "C#",
   "pygments_lexer": "csharp",
   "version": "8.0"
  },
  "toc": {
   "base_numbering": 1,
   "nav_menu": {},
   "number_sections": true,
   "sideBar": true,
   "skip_h1_title": false,
   "title_cell": "Table of Contents",
   "title_sidebar": "Contents",
   "toc_cell": false,
   "toc_position": {},
   "toc_section_display": true,
   "toc_window_display": true
  }
 },
 "nbformat": 4,
 "nbformat_minor": 4
}
