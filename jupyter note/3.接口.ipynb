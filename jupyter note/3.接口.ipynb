{
 "cells": [
  {
   "cell_type": "markdown",
   "metadata": {},
   "source": [
    "1. 接口的方法不能添加任何访问修饰符，接口的方法的访问级别默认为public，如果显式指定访问修饰符，编译时会出错。另外，也不能使用`static`修饰符。\n",
    "2. 接口除了定义方法之外，还可以包含属性、事件、索引器，但接口不能包含字段、运算符重载、实例构造函数和拆构函数。如果接口包含了不能包含的成员，编译时会出错。\n",
    "3. \n"
   ]
  },
  {
   "cell_type": "markdown",
   "metadata": {},
   "source": [
    "## 抽象类与接口的区别\n",
    "\n",
    "抽象类经常与接口一起使用，共同服务于面向对象的编程，这里简单地分析一下接口与抽象类的区别，主要有以下几点。\n",
    "\n",
    "1. 抽象类使用`abstract`关键字进行定义，而接口使用`interface`进行定义；它们都不能进行实例化。\n",
    "\n",
    "2. 抽象类中可以包含虚方法、非抽象方法和静态成员；但接口中不能包含虚方法和任何静态成员，并且接口中只能定义方法，不能有具体实现，方法的具体实现由实现类完成。\n",
    "\n",
    "3. 抽象类不能实现多继承，接口则支持多继承。注意，从严格意义上说，类接触接口应该成为类实现接口。\n",
    "\n",
    "4. 抽象类是对一类对象的抽象，继承于抽象类的类与抽象类为属于的关系；而类实现接口只是代表实现类具有接口声明的方法，是一种CAN-DO的关系。所以一般接口后都带有able字段，表示“我能做”的意思，例如微软类库中的 Comparable接口和 Icloneable接口等。"
   ]
  }
 ],
 "metadata": {
  "kernelspec": {
   "display_name": ".NET (C#)",
   "language": "C#",
   "name": ".net-csharp"
  },
  "language_info": {
   "file_extension": ".cs",
   "mimetype": "text/x-csharp",
   "name": "C#",
   "pygments_lexer": "csharp",
   "version": "8.0"
  },
  "toc": {
   "base_numbering": 1,
   "nav_menu": {},
   "number_sections": true,
   "sideBar": true,
   "skip_h1_title": false,
   "title_cell": "Table of Contents",
   "title_sidebar": "Contents",
   "toc_cell": false,
   "toc_position": {},
   "toc_section_display": true,
   "toc_window_display": false
  }
 },
 "nbformat": 4,
 "nbformat_minor": 4
}
