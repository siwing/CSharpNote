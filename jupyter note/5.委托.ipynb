{
 "cells": [
  {
   "cell_type": "markdown",
   "metadata": {},
   "source": [
    "**委托是一种引用类型**，表示对具有特定参数列表和返回类型的方法的引用。在实例化委托时，你可以将其实例与任何具有兼容签名和返回类型的方法相关联。 你可以通过委托实例调用方法。\n",
    "\n",
    "**委托用于将方法作为参数传递给其他方法**，因此委托可以用于定义回调方法。\n",
    "\n",
    "委托可以链接在一起。\n",
    "\n",
    "委托类型派生自 .NET 中的 Delegate 类。 委托类型是密封的，它们不能派生自 Delegate，也不能从其派生出自定义类。\n",
    "\n",
    "由于实例化的委托是一个对象，因此可以作为参数传递或分配给一个属性。\n",
    "\n",
    "委托可以封装多个方法。C#中把封装多个方法的委托称作**委托链**或**多路广播委托**。\n",
    "\n",
    "委托对象的一个有用属性在于可通过使用 + 运算符将多个对象分配到一个委托实例。多播委托包含已分配委托列表。此多播委托被调用时会依次调用列表中的委托。**仅可合并类型相同的委托。**\n",
    "\n",
    "\n",
    "使用委托实例的 `Invoke` 方法可以显式地调用委托，这可以清楚地看到委托是类类型。\n",
    "\n",
    "隐式调用也是通过调用 `Invoke`方法来调用委托的，这可以通过IL代码证明。"
   ]
  }
 ],
 "metadata": {
  "kernelspec": {
   "display_name": ".NET (C#)",
   "language": "C#",
   "name": ".net-csharp"
  },
  "language_info": {
   "file_extension": ".cs",
   "mimetype": "text/x-csharp",
   "name": "C#",
   "pygments_lexer": "csharp",
   "version": "8.0"
  },
  "toc": {
   "base_numbering": 1,
   "nav_menu": {},
   "number_sections": true,
   "sideBar": true,
   "skip_h1_title": false,
   "title_cell": "Table of Contents",
   "title_sidebar": "Contents",
   "toc_cell": false,
   "toc_position": {},
   "toc_section_display": true,
   "toc_window_display": false
  }
 },
 "nbformat": 4,
 "nbformat_minor": 4
}
