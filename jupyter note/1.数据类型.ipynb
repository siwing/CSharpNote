{
 "cells": [
  {
   "cell_type": "markdown",
   "metadata": {},
   "source": [
    "类型中可存储以下信息：\n",
    "\n",
    "1. 类型变量所需的内存空间。\n",
    "\n",
    "2. 可以表示的最大值和最小值。\n",
    "\n",
    "3. 在运行时分配变量内存的位置。\n",
    "\n",
    "4. 包含的成员（方法、字段、事件等）。\n",
    "\n",
    "5. 继承自的基类型。\n",
    "\n",
    "6. 允许执行的运算种类。\n",
    "\n",
    "\n",
    "## 数值类型\n",
    "\n",
    "### 整型\n",
    "\n",
    "| C# 类型/关键字 | 范围                                                    | 大小               | .NET 类型                                                    |\n",
    "| :------------- | :------------------------------------------------------ | :----------------- | :----------------------------------------------------------- |\n",
    "| `sbyte`        | -128 到 127                                             | 8 位带符号整数     | [System.SByte](https://docs.microsoft.com/zh-cn/dotnet/api/system.sbyte) |\n",
    "| `byte`         | 0 到 255                                                | 无符号的 8 位整数  | [System.Byte](https://docs.microsoft.com/zh-cn/dotnet/api/system.byte) |\n",
    "| `short`        | -32,768 到 32,767                                       | 有符号 16 位整数   | [System.Int16](https://docs.microsoft.com/zh-cn/dotnet/api/system.int16) |\n",
    "| `ushort`       | 0 到 65,535                                             | 无符号 16 位整数   | [System.UInt16](https://docs.microsoft.com/zh-cn/dotnet/api/system.uint16) |\n",
    "| `int`          | -2,147,483,648 到 2,147,483,647                         | 带符号的 32 位整数 | [System.Int32](https://docs.microsoft.com/zh-cn/dotnet/api/system.int32) |\n",
    "| `uint`         | 0 到 4,294,967,295                                      | 无符号的 32 位整数 | [System.UInt32](https://docs.microsoft.com/zh-cn/dotnet/api/system.uint32) |\n",
    "| `long`         | -9,223,372,036,854,775,808 到 9,223,372,036,854,775,807 | 64 位带符号整数    | [System.Int64](https://docs.microsoft.com/zh-cn/dotnet/api/system.int64) |\n",
    "| `ulong`        | 0 到 18,446,744,073,709,551,615                         | 无符号 64 位整数   | [System.UInt64](https://docs.microsoft.com/zh-cn/dotnet/api/system.uint64) |\n",
    "\n",
    "在上表中，最左侧列中的**每个 C# 类型关键字都是相应 .NET 类型的别名**。它们是可互换的。 例如，以下声明声明了相同类型的变量："
   ]
  },
  {
   "cell_type": "code",
   "execution_count": 6,
   "metadata": {},
   "outputs": [],
   "source": [
    "int a = 8;\n",
    "System.Int32 b = 8;[]"
   ]
  },
  {
   "cell_type": "markdown",
   "metadata": {},
   "source": [
    "每个整型类型的默认值都为零 0。"
   ]
  },
  {
   "cell_type": "code",
   "execution_count": 7,
   "metadata": {},
   "outputs": [
    {
     "name": "stdout",
     "output_type": "stream",
     "text": [
      "0\r\n"
     ]
    }
   ],
   "source": [
    "int int_var;\n",
    "Console.WriteLine(int_var)"
   ]
  },
  {
   "cell_type": "markdown",
   "metadata": {},
   "source": [
    "**每个整型类型都有 MinValue 和 MaxValue 常量，提供该类型的最小值和最大值。**"
   ]
  },
  {
   "cell_type": "code",
   "execution_count": 3,
   "metadata": {},
   "outputs": [
    {
     "data": {
      "text/plain": [
       "-2147483648"
      ]
     },
     "execution_count": 3,
     "metadata": {},
     "output_type": "execute_result"
    }
   ],
   "source": [
    "int.MinValue"
   ]
  },
  {
   "cell_type": "markdown",
   "metadata": {},
   "source": [
    "### 浮点型\n",
    "\n",
    "C# 支持以下预定义浮点类型：\n",
    "\n",
    "| C# 类型/关键字 | 大致范围                       | 精度              | 大小      | .NET 类型                                                    |\n",
    "| :------------- | :----------------------------- | :---------------- | :-------- | :----------------------------------------------------------- |\n",
    "| `float`        | ±1.5 x 10−45 至 ±3.4 x 1038    | 大约 6-9 位数字   | 4 个字节  | [System.Single](https://docs.microsoft.com/zh-cn/dotnet/api/system.single) |\n",
    "| `double`       | ±5.0 × 10−324 到 ±1.7 × 10308  | 大约 15-17 位数字 | 8 个字节  | [System.Double](https://docs.microsoft.com/zh-cn/dotnet/api/system.double) |\n",
    "| `decimal`      | ±1.0 x 10-28 至 ±7.9228 x 1028 | 28-29 位          | 16 个字节 | [System.Decimal](https://docs.microsoft.com/zh-cn/dotnet/api/system.decimal) |\n",
    "\n",
    "每个浮点类型的默认值都为零，0。 每个浮点类型都有 MinValue 和 MaxValue 常量，提供该类型的最小值和最大有限值。 float and double 类型还提供可表示非数字和无穷大值的常量。 例如，double 类型提供以下常量：Double.NaN、Double.NegativeInfinity 和 Double.PositiveInfinity。"
   ]
  },
  {
   "cell_type": "code",
   "execution_count": 30,
   "metadata": {},
   "outputs": [
    {
     "name": "stdout",
     "output_type": "stream",
     "text": [
      "NaN\n",
      "-∞\n",
      "∞\n",
      "----------\n",
      "NaN\n",
      "-∞\n",
      "∞\n"
     ]
    }
   ],
   "source": [
    "Console.WriteLine(double.NaN);\n",
    "Console.WriteLine(double.NegativeInfinity);\n",
    "Console.WriteLine(double.PositiveInfinity);\n",
    "Console.WriteLine(\"----------\");\n",
    "Console.WriteLine(float.NaN);\n",
    "Console.WriteLine(float.NegativeInfinity);\n",
    "Console.WriteLine(float.PositiveInfinity);"
   ]
  },
  {
   "cell_type": "markdown",
   "metadata": {},
   "source": [
    "在初始化或赋值的时候，真实浮点类型由其后缀确定，如下所示：\n",
    "\n",
    "- **不带后缀的文本或带有 `d` 或 `D` 后缀的浮点数的类型为 `double`**\n",
    "- 带有 `f` 或 `F` 后缀的浮点数的类型为 `float`\n",
    "- 带有 `m` 或 `M` 后缀的浮点数的类型为 `decimal`\n",
    "\n",
    "如果声明一个`float`或`decimal`类型的变量，但初始化时不带有相应的后缀，则编译时会出错。"
   ]
  },
  {
   "cell_type": "code",
   "execution_count": 36,
   "metadata": {},
   "outputs": [
    {
     "ename": "Unhandled Exception",
     "evalue": "(1,17): error CS0664: Literal of type double cannot be implicitly converted to type 'float'; use an 'F' suffix to create a literal of this type",
     "output_type": "error",
     "traceback": [
      "(1,17): error CS0664: Literal of type double cannot be implicitly converted to type 'float'; use an 'F' suffix to create a literal of this type"
     ]
    }
   ],
   "source": [
    "float myMoney = 123.123;\n",
    "Console.WriteLine(myMoney.GetType());"
   ]
  },
  {
   "cell_type": "markdown",
   "metadata": {},
   "source": [
    "### 进制表示\n",
    "\n",
    "C# 中可以直接使用的进制系统有二进制、十进制、十六进制。"
   ]
  },
  {
   "cell_type": "code",
   "execution_count": 53,
   "metadata": {},
   "outputs": [
    {
     "name": "stdout",
     "output_type": "stream",
     "text": [
      "2\n",
      "-18\n"
     ]
    }
   ],
   "source": [
    "// 二进制\n",
    "sbyte base_8 = 0b10;\n",
    "Console.WriteLine(base_8);\n",
    "\n",
    "// 十六进制 0x 作为前缀\n",
    "sbyte base_16 = -0x12;\n",
    "Console.WriteLine(base_16);"
   ]
  },
  {
   "cell_type": "markdown",
   "metadata": {},
   "source": [
    "### bool类型\n",
    "\n",
    "bool 类型关键字是 .NET System.Boolean 结构类型的别名，它表示一个布尔值，可为 true 或 false。"
   ]
  },
  {
   "cell_type": "markdown",
   "metadata": {},
   "source": [
    "### 字符类型\n",
    "\n",
    "`char` 类型关键字是 .NET [System.Char](https://docs.microsoft.com/zh-cn/dotnet/api/system.char) 结构类型的别名，它表示 单个Unicode UTF-16 字符。\n",
    "\n",
    "| 类型   | 范围             | 大小  | .NET 类型                                                    |\n",
    "| :----- | :--------------- | :---- | :----------------------------------------------------------- |\n",
    "| `char` | U+0000 到 U+FFFF | 16 位 | [System.Char](https://docs.microsoft.com/zh-cn/dotnet/api/system.char) |\n",
    "\n",
    "`char` 类型的默认值为 `\\0`，即 U+0000。\n",
    "\n",
    "\n",
    "\n",
    "可以使用以下命令指定 `char` 值：\n",
    "\n",
    "- 字符文本。\n",
    "- Unicode 转义序列，它是 `\\u` 后跟字符代码的十六进制表示形式（四个符号）。\n",
    "- 十六进制转义序列，它是 `\\x` 后跟字符代码的十六进制表示形式。\n",
    "\n",
    "注意：单引号表示`char`类型，双引号表示`string`类型。"
   ]
  },
  {
   "cell_type": "code",
   "execution_count": 54,
   "metadata": {},
   "outputs": [
    {
     "name": "stdout",
     "output_type": "stream",
     "text": [
      "中\n",
      "中\n"
     ]
    }
   ],
   "source": [
    "char unicode_string = '\\x4e2d';\n",
    "Console.WriteLine(unicode_string);\n",
    "unicode_string = '\\u4e2d';\n",
    "Console.WriteLine(unicode_string);"
   ]
  },
  {
   "cell_type": "markdown",
   "metadata": {},
   "source": [
    "## 引用类型\n",
    "\n",
    "### 字符串类型\n",
    "\n",
    "string 类型表示零个或多个 Unicode 字符的序列。 string 是 System.String 在 .NET 中的别名。尽管 string 为引用类型，但是定义相等运算符 == 和 != 是为了比较 string 对象（而不是引用）的值。\n",
    "\n",
    "注意：单引号表示`char`类型，双引号表示`string`类型。\n",
    "\n",
    "虽然字符串时引用类型，但字符串是不可变的，这和Python是一样的，所以在C#中无法对字符串变量赋值。"
   ]
  },
  {
   "cell_type": "code",
   "execution_count": 55,
   "metadata": {},
   "outputs": [
    {
     "ename": "Unhandled Exception",
     "evalue": "(3,19): error CS1002: ; expected",
     "output_type": "error",
     "traceback": [
      "(3,19): error CS1002: ; expected"
     ]
    }
   ],
   "source": [
    "string str_1 = \"string_1\";\n",
    "Console.WriteLine(str_1);\n",
    "str_1 = \"string_2\"\n",
    "Console.WriteLine(str_1);"
   ]
  },
  {
   "cell_type": "markdown",
   "metadata": {},
   "source": [
    "尽管有些语法上看似乎可以更改字符串的内容，但事实上并不可行。例如，编写此代码时，编译器实际上会创建一个新的字符串对象来保存新的字符序列，且该新对象将赋给`str_2`。 已为 `str_2` 分配的内存（当它包含字符串“h”时）可用于垃圾回收。"
   ]
  },
  {
   "cell_type": "code",
   "execution_count": 56,
   "metadata": {},
   "outputs": [],
   "source": [
    "string str_2 = \"h\";\n",
    "str_2 += \"ello\";"
   ]
  },
  {
   "cell_type": "markdown",
   "metadata": {},
   "source": [
    "#### 逐字字符串\n",
    "\n",
    "和Python一样，C# 使用反斜杠`\\`表示转义，如果想让一个带有转义字符的字符串不进行转义，可以为字符串添加前缀`@`，这称为逐字字符串。逐字字符串的优点是不处理转义序列，这样就可轻松编写完全限定的 Windows 文件名："
   ]
  },
  {
   "cell_type": "code",
   "execution_count": 57,
   "metadata": {},
   "outputs": [
    {
     "data": {
      "text/plain": [
       "c:\\Docs\\Source\\a.txt"
      ]
     },
     "execution_count": 57,
     "metadata": {},
     "output_type": "execute_result"
    }
   ],
   "source": [
    "@\"c:\\Docs\\Source\\a.txt\"  // rather than \"c:\\\\Docs\\\\Source\\\\a.txt\""
   ]
  },
  {
   "cell_type": "markdown",
   "metadata": {},
   "source": [
    "若要在 @-quoted 字符串中包含双引号，双倍添加即可："
   ]
  },
  {
   "cell_type": "code",
   "execution_count": 60,
   "metadata": {},
   "outputs": [
    {
     "data": {
      "text/plain": [
       "\"Ahoy!\" cried the captain."
      ]
     },
     "execution_count": 60,
     "metadata": {},
     "output_type": "execute_result"
    }
   ],
   "source": [
    "@\"\"\"Ahoy!\"\" cried the captain.\" // \"Ahoy!\" cried the captain."
   ]
  },
  {
   "cell_type": "markdown",
   "metadata": {},
   "source": [
    "## 微软官方文档\n",
    "\n",
    "**[类型、变量和值](https://docs.microsoft.com/zh-cn/dotnet/csharp/basic-types#built-in-types)**\n",
    "\n",
    "[.NET 类库概述](https://docs.microsoft.com/zh-cn/dotnet/standard/class-library-overview)"
   ]
  },
  {
   "cell_type": "code",
   "execution_count": 61,
   "metadata": {},
   "outputs": [
    {
     "name": "stdout",
     "output_type": "stream",
     "text": [
      "System.String\r\n"
     ]
    }
   ],
   "source": [
    "var tmp123 = \"string\";\n",
    "Console.WriteLine(tmp123.GetType());"
   ]
  },
  {
   "cell_type": "code",
   "execution_count": null,
   "metadata": {},
   "outputs": [],
   "source": []
  },
  {
   "cell_type": "code",
   "execution_count": null,
   "metadata": {},
   "outputs": [],
   "source": []
  },
  {
   "cell_type": "code",
   "execution_count": null,
   "metadata": {},
   "outputs": [],
   "source": []
  },
  {
   "cell_type": "code",
   "execution_count": null,
   "metadata": {},
   "outputs": [],
   "source": []
  },
  {
   "cell_type": "code",
   "execution_count": null,
   "metadata": {},
   "outputs": [],
   "source": []
  },
  {
   "cell_type": "code",
   "execution_count": null,
   "metadata": {},
   "outputs": [],
   "source": []
  },
  {
   "cell_type": "code",
   "execution_count": null,
   "metadata": {},
   "outputs": [],
   "source": []
  },
  {
   "cell_type": "code",
   "execution_count": null,
   "metadata": {},
   "outputs": [],
   "source": []
  },
  {
   "cell_type": "code",
   "execution_count": null,
   "metadata": {},
   "outputs": [],
   "source": []
  },
  {
   "cell_type": "code",
   "execution_count": null,
   "metadata": {},
   "outputs": [],
   "source": []
  },
  {
   "cell_type": "code",
   "execution_count": null,
   "metadata": {},
   "outputs": [],
   "source": []
  }
 ],
 "metadata": {
  "kernelspec": {
   "display_name": ".NET (C#)",
   "language": "C#",
   "name": ".net-csharp"
  },
  "language_info": {
   "file_extension": ".cs",
   "mimetype": "text/x-csharp",
   "name": "C#",
   "pygments_lexer": "csharp",
   "version": "8.0"
  },
  "toc": {
   "base_numbering": 1,
   "nav_menu": {},
   "number_sections": true,
   "sideBar": true,
   "skip_h1_title": false,
   "title_cell": "Table of Contents",
   "title_sidebar": "Contents",
   "toc_cell": false,
   "toc_position": {
    "height": "calc(100% - 180px)",
    "left": "10px",
    "top": "150px",
    "width": "307.2px"
   },
   "toc_section_display": true,
   "toc_window_display": true
  }
 },
 "nbformat": 4,
 "nbformat_minor": 4
}
